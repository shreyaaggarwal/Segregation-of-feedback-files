{
 "cells": [
  {
   "cell_type": "markdown",
   "metadata": {},
   "source": [
    "# Import modules"
   ]
  },
  {
   "cell_type": "markdown",
   "metadata": {},
   "source": [
    "### Install anaconda to run this. In anaconda you need to install pandas and numpy to run this file\n",
    "\n",
    "###### To run each cell you need to press shift+ enter after going to that cell.\n",
    "###### shift+ enter will run that cell and select next cell for running."
   ]
  },
  {
   "cell_type": "code",
   "execution_count": 23,
   "metadata": {},
   "outputs": [],
   "source": [
    "import pandas as pd\n",
    "import numpy as np"
   ]
  },
  {
   "cell_type": "markdown",
   "metadata": {},
   "source": [
    "# Read files"
   ]
  },
  {
   "cell_type": "markdown",
   "metadata": {},
   "source": [
    "###### Enter the file path along with file name if you are following different directory structure. \n",
    "###### This directory structure has a folder named \"FEEDBACK DATABASE\" on Desktop.\n",
    "###### Inside FEEDBACK DATABASE make 3 folders 'downloaded', 'lecturewise' and 'studentwise'.\n",
    "###### Save your feedback database csv file in the folder 'downloaded' under the name student_feedback.csv "
   ]
  },
  {
   "cell_type": "code",
   "execution_count": 24,
   "metadata": {},
   "outputs": [],
   "source": [
    "df = pd.read_csv('Desktop/FEEDBACK DATABASE/downloaded/student_feedback.csv')\n",
    "\n",
    "# print(df.head())\n",
    "# print(type(df))\n",
    "# type(df['lecture_id'])"
   ]
  },
  {
   "cell_type": "markdown",
   "metadata": {},
   "source": [
    "# Take user input about the lecture "
   ]
  },
  {
   "cell_type": "markdown",
   "metadata": {},
   "source": [
    "###### Do not edit this code. \n",
    "###### Write the lecture ID you want to extract in the box you will get once you run this cell of code by pressing Shift + Enter.\n",
    "###### Press enter after entering the lecture ID\n",
    "### **Do not press shift+enter after entering the lecture ID. Press enter and move directly to the next cell. "
   ]
  },
  {
   "cell_type": "code",
   "execution_count": null,
   "metadata": {},
   "outputs": [],
   "source": [
    "print(\"Please enter lecture ID\")\n",
    "ID = input();\n",
    "print(ID);\n",
    "type(ID)\n",
    "i = int(ID)\n",
    "type(i)"
   ]
  },
  {
   "cell_type": "markdown",
   "metadata": {},
   "source": [
    "# Segregating based on Lecture ID"
   ]
  },
  {
   "cell_type": "markdown",
   "metadata": {},
   "source": [
    "###### This will create the file named lectureid_value.csv eg.lectureid_147.csv in the folder \"lecturewise\"\n",
    "###### After running this code, check the folder lecturewise."
   ]
  },
  {
   "cell_type": "code",
   "execution_count": null,
   "metadata": {},
   "outputs": [],
   "source": [
    "c = df.groupby('lecture_id')\n",
    "q = c.get_group(i)\n",
    "q.to_csv('Desktop/FEEDBACK DATABASE/lecturewise/{}_{}.csv'.format('lectureid',i))"
   ]
  },
  {
   "cell_type": "markdown",
   "metadata": {},
   "source": [
    "# Processing the file created after segregation based on lecture ID"
   ]
  },
  {
   "cell_type": "markdown",
   "metadata": {},
   "source": [
    "#### Read the file created by the above code. This file has all the entries of the lecture ID input by you - (no changes needed in this code)"
   ]
  },
  {
   "cell_type": "code",
   "execution_count": null,
   "metadata": {},
   "outputs": [],
   "source": [
    "lecturefile = pd.read_csv('Desktop/FEEDBACK DATABASE/lecturewise/{}_{}.csv'.format('lectureid',i))\n",
    "print(lecturefile.head())"
   ]
  },
  {
   "cell_type": "markdown",
   "metadata": {},
   "source": [
    "## Making 4 new columns engaged, easy, bored, difficult - (no changes needed in this code)"
   ]
  },
  {
   "cell_type": "code",
   "execution_count": null,
   "metadata": {},
   "outputs": [],
   "source": [
    "lecturefile.loc[:,'easy'] =pd.Series(['5'], index=lecturefile.index)\n",
    "lecturefile.loc[:,'difficult'] =pd.Series(['5'], index=lecturefile.index)\n",
    "lecturefile.loc[:,'bored'] =pd.Series(['5'], index=lecturefile.index)\n",
    "lecturefile.loc[:,'engaged'] =pd.Series(['5'], index=lecturefile.index)\n",
    "\n",
    "lecturefile['easy'] = np.where(lecturefile['response'] == 'Easy',1,0)\n",
    "lecturefile['difficult'] = np.where(lecturefile['response'] == 'Difficult',1,0)\n",
    "lecturefile['bored'] = np.where(lecturefile['response'] == 'Bored',1,0)\n",
    "lecturefile['engaged'] = np.where(lecturefile['response'] == 'Engaged',1,0)\n",
    "\n",
    "# print(lecturefile.head(10))"
   ]
  },
  {
   "cell_type": "markdown",
   "metadata": {},
   "source": [
    "## Separating based on student ID"
   ]
  },
  {
   "cell_type": "markdown",
   "metadata": {},
   "source": [
    "###### This will separate your file created in the above code based on email id of different students.\n",
    "###### Then it will complete all the missing timestamps to give second level data for each student\n",
    "###### It will then put zeroes for all the 4 new columns if there is no response.\n",
    "###### It will create separate file for each and every student in the folder \"studentwise\"\n",
    "###### Each file will be named student_email_id_student.csv eg. pankaj@gmail.com_student.csv\n",
    "###### Each file will have second level data with all the 4 responses = 0 if the student gave no response at that time.\n",
    "###### (No change needed in this code)"
   ]
  },
  {
   "cell_type": "code",
   "execution_count": null,
   "metadata": {},
   "outputs": [],
   "source": [
    "\n",
    "    \n",
    "g = lecturefile.groupby('email_id', as_index=False)\n",
    "\n",
    "for email_id, group in g:\n",
    "    group.to_csv('Desktop/FEEDBACK DATABASE/studentwise/{}_{}.csv'.format(email_id, 'student')) \n",
    "\n",
    "for email_id, group in g:\n",
    "    c = g.get_group(email_id)\n",
    "    c.set_index('time_interval',inplace=True)\n",
    "    c = c.reindex(np.arange(0,10000)).reset_index()\n",
    "    c['lecture_id'].isnull().sum()\n",
    "    p = c.fillna(\"remove\")\n",
    "    p[['lecture_id']] = p[['lecture_id']].replace('remove', i)\n",
    "    p[['easy']] = p[['easy']].replace('remove', '0')\n",
    "    p[['difficult']] = p[['difficult']].replace('remove', '0')\n",
    "    p[['bored']] = p[['bored']].replace('remove', '0')\n",
    "    p[['engaged']] = p[['engaged']].replace('remove', '0')\n",
    "    \n",
    "#     print(p.head(1))\n",
    "    p.to_csv('Desktop/FEEDBACK DATABASE/studentwise/{}_{}.csv'.format(email_id, 'student'))"
   ]
  },
  {
   "cell_type": "markdown",
   "metadata": {},
   "source": [
    "### Now open the folder \"studentwise\" to check your files\n",
    "### Code ends here!!!"
   ]
  },
  {
   "cell_type": "code",
   "execution_count": null,
   "metadata": {},
   "outputs": [],
   "source": []
  },
  {
   "cell_type": "code",
   "execution_count": null,
   "metadata": {},
   "outputs": [],
   "source": []
  },
  {
   "cell_type": "code",
   "execution_count": null,
   "metadata": {},
   "outputs": [],
   "source": []
  },
  {
   "cell_type": "code",
   "execution_count": null,
   "metadata": {},
   "outputs": [],
   "source": []
  },
  {
   "cell_type": "code",
   "execution_count": null,
   "metadata": {},
   "outputs": [],
   "source": []
  },
  {
   "cell_type": "code",
   "execution_count": null,
   "metadata": {},
   "outputs": [],
   "source": []
  },
  {
   "cell_type": "code",
   "execution_count": null,
   "metadata": {},
   "outputs": [],
   "source": []
  },
  {
   "cell_type": "code",
   "execution_count": null,
   "metadata": {},
   "outputs": [],
   "source": []
  },
  {
   "cell_type": "code",
   "execution_count": null,
   "metadata": {},
   "outputs": [],
   "source": []
  },
  {
   "cell_type": "code",
   "execution_count": null,
   "metadata": {},
   "outputs": [],
   "source": []
  },
  {
   "cell_type": "code",
   "execution_count": null,
   "metadata": {},
   "outputs": [],
   "source": []
  },
  {
   "cell_type": "code",
   "execution_count": null,
   "metadata": {},
   "outputs": [],
   "source": []
  },
  {
   "cell_type": "code",
   "execution_count": null,
   "metadata": {},
   "outputs": [],
   "source": []
  },
  {
   "cell_type": "code",
   "execution_count": null,
   "metadata": {},
   "outputs": [],
   "source": []
  },
  {
   "cell_type": "code",
   "execution_count": null,
   "metadata": {},
   "outputs": [],
   "source": []
  },
  {
   "cell_type": "code",
   "execution_count": null,
   "metadata": {},
   "outputs": [],
   "source": []
  },
  {
   "cell_type": "code",
   "execution_count": null,
   "metadata": {},
   "outputs": [],
   "source": []
  },
  {
   "cell_type": "code",
   "execution_count": null,
   "metadata": {},
   "outputs": [],
   "source": []
  },
  {
   "cell_type": "code",
   "execution_count": null,
   "metadata": {},
   "outputs": [],
   "source": []
  },
  {
   "cell_type": "code",
   "execution_count": null,
   "metadata": {},
   "outputs": [],
   "source": []
  },
  {
   "cell_type": "code",
   "execution_count": null,
   "metadata": {},
   "outputs": [],
   "source": []
  },
  {
   "cell_type": "code",
   "execution_count": null,
   "metadata": {},
   "outputs": [],
   "source": []
  },
  {
   "cell_type": "code",
   "execution_count": null,
   "metadata": {},
   "outputs": [],
   "source": []
  },
  {
   "cell_type": "code",
   "execution_count": null,
   "metadata": {},
   "outputs": [],
   "source": []
  },
  {
   "cell_type": "code",
   "execution_count": null,
   "metadata": {},
   "outputs": [],
   "source": []
  }
 ],
 "metadata": {
  "kernelspec": {
   "display_name": "Python 3",
   "language": "python",
   "name": "python3"
  },
  "language_info": {
   "codemirror_mode": {
    "name": "ipython",
    "version": 3
   },
   "file_extension": ".py",
   "mimetype": "text/x-python",
   "name": "python",
   "nbconvert_exporter": "python",
   "pygments_lexer": "ipython3",
   "version": "3.6.4"
  }
 },
 "nbformat": 4,
 "nbformat_minor": 2
}
